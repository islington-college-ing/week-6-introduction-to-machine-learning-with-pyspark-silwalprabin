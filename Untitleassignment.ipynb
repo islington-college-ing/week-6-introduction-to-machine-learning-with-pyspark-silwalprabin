{
  "nbformat": 4,
  "nbformat_minor": 0,
  "metadata": {
    "colab": {
      "provenance": []
    },
    "kernelspec": {
      "name": "python3",
      "display_name": "Python 3"
    },
    "language_info": {
      "name": "python"
    }
  },
  "cells": [
    {
      "cell_type": "code",
      "execution_count": 2,
      "metadata": {
        "colab": {
          "base_uri": "https://localhost:8080/"
        },
        "id": "UJ8OIRP_56mn",
        "outputId": "9eaab81c-54b5-4bf4-ea47-44339155692b"
      },
      "outputs": [
        {
          "output_type": "stream",
          "name": "stdout",
          "text": [
            "[19.39096437 13.57530482 18.95910985 16.16630624 17.38699826 15.72108445\n",
            " 17.12484006 16.88818895 13.36316859 18.3897107 ]\n"
          ]
        }
      ],
      "source": [
        "# prompt: 10 random numbers using numpy between 10 and 20\n",
        "\n",
        "import numpy as np\n",
        "result = np.random.uniform(10,20,10)\n",
        "print(result)\n"
      ]
    }
  ]
}