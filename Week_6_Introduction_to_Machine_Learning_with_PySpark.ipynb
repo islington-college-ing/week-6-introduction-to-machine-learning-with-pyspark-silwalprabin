{
  "nbformat": 4,
  "nbformat_minor": 0,
  "metadata": {
    "colab": {
      "provenance": [],
      "authorship_tag": "ABX9TyOazkB6fTDvQ5lQuh/uAbg2",
      "include_colab_link": true
    },
    "kernelspec": {
      "name": "python3",
      "display_name": "Python 3"
    },
    "language_info": {
      "name": "python"
    }
  },
  "cells": [
    {
      "cell_type": "markdown",
      "metadata": {
        "id": "view-in-github",
        "colab_type": "text"
      },
      "source": [
        "<a href=\"https://colab.research.google.com/github/islington-college-ing/week-6-introduction-to-machine-learning-with-pyspark-silwalprabin/blob/main/Week_6_Introduction_to_Machine_Learning_with_PySpark.ipynb\" target=\"_parent\"><img src=\"https://colab.research.google.com/assets/colab-badge.svg\" alt=\"Open In Colab\"/></a>"
      ]
    },
    {
      "cell_type": "code",
      "execution_count": 38,
      "metadata": {
        "colab": {
          "base_uri": "https://localhost:8080/"
        },
        "id": "y03pyMfgJTSV",
        "outputId": "32675cf1-e0ff-4e21-cd6b-997f7756edbd"
      },
      "outputs": [
        {
          "output_type": "stream",
          "name": "stdout",
          "text": [
            "Requirement already satisfied: pyspark in /usr/local/lib/python3.10/dist-packages (3.5.1)\n",
            "Requirement already satisfied: pandas in /usr/local/lib/python3.10/dist-packages (2.1.4)\n",
            "Requirement already satisfied: py4j==0.10.9.7 in /usr/local/lib/python3.10/dist-packages (from pyspark) (0.10.9.7)\n",
            "Requirement already satisfied: numpy<2,>=1.22.4 in /usr/local/lib/python3.10/dist-packages (from pandas) (1.26.4)\n",
            "Requirement already satisfied: python-dateutil>=2.8.2 in /usr/local/lib/python3.10/dist-packages (from pandas) (2.8.2)\n",
            "Requirement already satisfied: pytz>=2020.1 in /usr/local/lib/python3.10/dist-packages (from pandas) (2024.1)\n",
            "Requirement already satisfied: tzdata>=2022.1 in /usr/local/lib/python3.10/dist-packages (from pandas) (2024.1)\n",
            "Requirement already satisfied: six>=1.5 in /usr/local/lib/python3.10/dist-packages (from python-dateutil>=2.8.2->pandas) (1.16.0)\n"
          ]
        }
      ],
      "source": [
        "!pip install pyspark pandas"
      ]
    },
    {
      "cell_type": "code",
      "source": [
        "# Import necessary libraries\n",
        "from pyspark.sql import SparkSession\n",
        "\n",
        "# Initialize Spark session\n",
        "spark = SparkSession.builder.appName(\"HousePricePrediction\").getOrCreate()"
      ],
      "metadata": {
        "id": "5wLOZK47JcN2"
      },
      "execution_count": 39,
      "outputs": []
    },
    {
      "cell_type": "markdown",
      "source": [
        "**Sample dataset**\n",
        "\n",
        "SquareFootage: The area of the house in square feet.\n",
        "\n",
        "Bedrooms: The number of bedrooms in the house.\n",
        "\n",
        "Bathrooms: The number of bathrooms in the house.\n",
        "\n",
        "Price: The price of the house."
      ],
      "metadata": {
        "id": "8YtehepNSqkD"
      }
    },
    {
      "cell_type": "code",
      "source": [
        "# Step 1: Load  Data\n",
        "\n",
        "# Sample dataset\n",
        "data = [\n",
        "    (1200, 3, 2, 300000),\n",
        "    (1500, 4, 3, 350000),\n",
        "    (800, 2, 1, 200000),\n",
        "    (2500, None, 3, 450000),\n",
        "    (1800, 4, 2, 400000),\n",
        "    (2500, 5, 3, 500000),\n",
        "    (None, 4, 3, 400000)\n",
        "\n",
        "]\n",
        "\n",
        "# Define schema\n",
        "columns = [\"SquareFootage\", \"Bedrooms\", \"Bathrooms\", \"Price\"]\n",
        "\n",
        "# Create DataFrame\n",
        "df = spark.createDataFrame(data, schema=columns)\n",
        "df.show()\n"
      ],
      "metadata": {
        "colab": {
          "base_uri": "https://localhost:8080/"
        },
        "id": "cdeVsm57MSUD",
        "outputId": "564dec3c-e234-4817-b6e5-f8e6492a83b4"
      },
      "execution_count": 40,
      "outputs": [
        {
          "output_type": "stream",
          "name": "stdout",
          "text": [
            "+-------------+--------+---------+------+\n",
            "|SquareFootage|Bedrooms|Bathrooms| Price|\n",
            "+-------------+--------+---------+------+\n",
            "|         1200|       3|        2|300000|\n",
            "|         1500|       4|        3|350000|\n",
            "|          800|       2|        1|200000|\n",
            "|         2500|    NULL|        3|450000|\n",
            "|         1800|       4|        2|400000|\n",
            "|         2500|       5|        3|500000|\n",
            "|         NULL|       4|        3|400000|\n",
            "+-------------+--------+---------+------+\n",
            "\n"
          ]
        }
      ]
    },
    {
      "cell_type": "code",
      "source": [
        "# Step 2: Data Preprocessing\n",
        "from pyspark.ml.feature import VectorAssembler, StandardScaler\n",
        "\n",
        "# Preprocessing\n",
        "\n",
        "# Check for missing values\n",
        "df.describe().show()\n",
        "# Fill missing values (if any) with mean of the column\n",
        "df = df.na.fill({\n",
        "    'SquareFootage': df.agg({'SquareFootage': 'mean'}).collect()[0][0],\n",
        "    'Bedrooms': df.agg({'Bedrooms': 'mean'}).collect()[0][0],\n",
        "    'Bathrooms': df.agg({'Bathrooms': 'mean'}).collect()[0][0]\n",
        "})\n",
        "df.show()\n",
        "\n",
        "# Normalize the features using StandardScaler if needed:\n",
        "# Assemble features into a vector\n",
        "assembler = VectorAssembler(inputCols=[\"SquareFootage\", \"Bedrooms\", \"Bathrooms\"], outputCol=\"unscaled_features\")\n",
        "output = assembler.transform(df)\n",
        "# Scale features\n",
        "scaler = StandardScaler(inputCol=\"unscaled_features\", outputCol=\"features\", withStd=True, withMean=True)\n",
        "scaler_model = scaler.fit(output)\n",
        "scaled_output = scaler_model.transform(output)\n",
        "# Show scaled features\n",
        "scaled_output.select(\"features\", \"Price\").show()\n"
      ],
      "metadata": {
        "colab": {
          "base_uri": "https://localhost:8080/"
        },
        "id": "u_I49c9QMbka",
        "outputId": "04319346-8972-4708-f6b4-d830a57d0290"
      },
      "execution_count": 64,
      "outputs": [
        {
          "output_type": "stream",
          "name": "stdout",
          "text": [
            "+-------+------------------+------------------+------------------+-----------------+\n",
            "|summary|     SquareFootage|          Bedrooms|         Bathrooms|            Price|\n",
            "+-------+------------------+------------------+------------------+-----------------+\n",
            "|  count|                 7|                 7|                 7|                7|\n",
            "|   mean|1716.5714285714287|3.5714285714285716|2.4285714285714284|371428.5714285714|\n",
            "| stddev| 630.9164913422528|0.9759000729485332|0.7867957924694432| 99402.9797388005|\n",
            "|    min|               800|                 2|                 1|           200000|\n",
            "|    max|              2500|                 5|                 3|           500000|\n",
            "+-------+------------------+------------------+------------------+-----------------+\n",
            "\n",
            "+-------------+--------+---------+------+\n",
            "|SquareFootage|Bedrooms|Bathrooms| Price|\n",
            "+-------------+--------+---------+------+\n",
            "|         1200|       3|        2|300000|\n",
            "|         1500|       4|        3|350000|\n",
            "|          800|       2|        1|200000|\n",
            "|         2500|       3|        3|450000|\n",
            "|         1800|       4|        2|400000|\n",
            "|         2500|       5|        3|500000|\n",
            "|         1716|       4|        3|400000|\n",
            "+-------------+--------+---------+------+\n",
            "\n",
            "+--------------------+------+\n",
            "|            features| Price|\n",
            "+--------------------+------+\n",
            "|[-0.8187635537508...|300000|\n",
            "|[-0.3432648084862...|350000|\n",
            "|[-1.4527618807703...|200000|\n",
            "|[1.24173100906247...|450000|\n",
            "|[0.13223393677835...|400000|\n",
            "|[1.24173100906247...|500000|\n",
            "|[-9.0571189574193...|400000|\n",
            "+--------------------+------+\n",
            "\n"
          ]
        }
      ]
    },
    {
      "cell_type": "code",
      "source": [
        "# Step 3: Model Training\n",
        "from pyspark.ml.regression import LinearRegression\n",
        "\n",
        "# Split the data into training and test sets\n",
        "train_data, test_data = scaled_output.randomSplit([0.8, 0.2])\n",
        "\n",
        "# Initialize the linear regression model\n",
        "lr = LinearRegression(labelCol=\"Price\", featuresCol=\"features\")\n",
        "\n",
        "# Fit the model to the training data\n",
        "model = lr.fit(train_data)"
      ],
      "metadata": {
        "id": "K3-CXs90MhOp"
      },
      "execution_count": 65,
      "outputs": []
    },
    {
      "cell_type": "markdown",
      "source": [
        "# Model Evaluation\n",
        "\n",
        "RMSE, R², and MAE are commonly used metrics in regression analysis, each offering a different perspective on model performance. Here's a comparison of these metrics:\n",
        "\n",
        "1. Root Mean Squared Error (RMSE)\n",
        "* Definition: RMSE measures the square root of the average of the squared differences between predicted and actual values.\n",
        "* Scale: It has the same units as the target variable.\n",
        "* Sensitivity: RMSE is sensitive to outliers due to the squaring of errors, which can disproportionately increase the metric for models with large errors.\n",
        "* Interpretation: A lower RMSE indicates better model performance, meaning the predictions are closer to the actual values. It's often preferred when large errors are particularly undesirable.\n",
        "\n",
        "2. R-squared (R²)\n",
        "* Definition: R² is a statistical measure that represents the proportion of the variance in the dependent variable that is predictable from the independent variables.\n",
        "* Scale: R² ranges from 0 to 1 (or can be negative if the model is worse than a horizontal line). An R² of 1 indicates that the model explains all the variance in the data.\n",
        "* Sensitivity: R² is less sensitive to outliers compared to RMSE and does not directly measure error magnitude.\n",
        "* Interpretation: A higher R² value indicates a better fit of the model to the data. However, a high R² doesn’t necessarily mean the model is good—it could also indicate overfitting, especially in complex models.\n",
        "\n",
        "3. Mean Absolute Error (MAE)\n",
        "* Definition: MAE measures the average of the absolute differences between predicted and actual values.\n",
        "* Scale: Like RMSE, MAE is in the same units as the target variable.\n",
        "* Sensitivity: MAE is less sensitive to outliers compared to RMSE because it does not square the errors.\n",
        "* Interpretation: A lower MAE indicates better model performance, reflecting the average error magnitude. It is often preferred when you want a straightforward interpretation of average prediction errors.\n",
        "\n",
        "\n",
        "**Summary**\n",
        "* RMSE is useful when large errors are particularly undesirable.\n",
        "* R² provides an overall measure of how well the model explains the data.\n",
        "* MAE gives a straightforward average error, useful for general understanding.\n",
        "\n",
        "\n",
        "Depending on the context of your regression problem, you might choose one metric over another or use a combination to get a comprehensive view of model performance"
      ],
      "metadata": {
        "id": "Q3zsz6okWYnA"
      }
    },
    {
      "cell_type": "code",
      "source": [
        "# Step 4: Model Evaluation\n",
        "from pyspark.ml.evaluation import RegressionEvaluator\n",
        "\n",
        "# Make predictions on the test data\n",
        "predictions = model.transform(test_data)\n",
        "predictions.select(\"features\", \"Price\", \"prediction\").show()\n",
        "\n",
        "# Evaluate the model's performance\n",
        "evaluator = RegressionEvaluator(labelCol=\"Price\", predictionCol=\"prediction\", metricName=\"rmse\")\n",
        "rmse = evaluator.evaluate(predictions)\n",
        "print(f\"Root Mean Squared Error (RMSE): {rmse}\")\n",
        "\n",
        "\n",
        "# Make predictions on the test data\n",
        "predictions = model.transform(test_data)\n",
        "\n",
        "# Calculate R-squared\n",
        "evaluator_r2 = RegressionEvaluator(labelCol=\"Price\", predictionCol=\"prediction\", metricName=\"r2\")\n",
        "r2 = evaluator_r2.evaluate(predictions)\n",
        "print(f\"R-squared (R²): {r2}\")\n",
        "\n",
        "# Calculate Mean Absolute Error (MAE)\n",
        "evaluator_mae = RegressionEvaluator(\n",
        "    labelCol=\"Price\", predictionCol=\"prediction\", metricName=\"mae\"\n",
        ")\n",
        "mae = evaluator_mae.evaluate(predictions)\n",
        "print(f\"Mean Absolute Error (MAE): {mae}\")"
      ],
      "metadata": {
        "colab": {
          "base_uri": "https://localhost:8080/"
        },
        "id": "AdF924JUMobw",
        "outputId": "44223e02-b62e-47ce-fc07-87ba41427f86"
      },
      "execution_count": 63,
      "outputs": [
        {
          "output_type": "stream",
          "name": "stdout",
          "text": [
            "+--------------------+------+------------------+\n",
            "|            features| Price|        prediction|\n",
            "+--------------------+------+------------------+\n",
            "|[-0.3432648084862...|350000| 400000.0000000065|\n",
            "|[1.24173100906247...|450000|  299999.999999953|\n",
            "|[1.24173100906247...|500000|499999.99999999173|\n",
            "+--------------------+------+------------------+\n",
            "\n",
            "Root Mean Squared Error (RMSE): 91287.09291755459\n",
            "R-squared (R²): -1.1428571428584062\n",
            "Mean Absolute Error (MAE): 66666.66666668725\n"
          ]
        }
      ]
    },
    {
      "cell_type": "code",
      "source": [
        "# Save the model\n",
        "model.write().overwrite().save(\"house_price_model\")"
      ],
      "metadata": {
        "id": "Pe_KhZqcUg5f"
      },
      "execution_count": 66,
      "outputs": []
    },
    {
      "cell_type": "code",
      "source": [
        "# PREDICT Price for given data (SquareFootage:1600, Bedrooms:3, Bathrooms:2 ::\n",
        "\n",
        "from pyspark.ml.regression import LinearRegressionModel\n",
        "\n",
        "# Load the saved model\n",
        "model = LinearRegressionModel.load(\"house_price_model\")\n",
        "\n",
        "# New data example (SquareFootage, Bedrooms, Bathrooms)\n",
        "new_df = spark.createDataFrame([(1600, 3, 2)], schema=[\"SquareFootage\", \"Bedrooms\", \"Bathrooms\"])\n",
        "# Assemble features into a single vector (no need to scale if the model was trained on unscaled data)\n",
        "assembler = VectorAssembler(inputCols=[\"SquareFootage\", \"Bedrooms\", \"Bathrooms\"], outputCol=\"features\")\n",
        "new_vector_data = assembler.transform(new_df)\n",
        "\n",
        "# Make prediction\n",
        "new_predictions = model.transform(new_vector_data)\n",
        "\n",
        "# Show the prediction\n",
        "new_predictions.show()"
      ],
      "metadata": {
        "colab": {
          "base_uri": "https://localhost:8080/"
        },
        "id": "o1dRfZldUxKx",
        "outputId": "b3ac2469-90f6-49ae-9f4b-488f6246ea38"
      },
      "execution_count": 71,
      "outputs": [
        {
          "output_type": "stream",
          "name": "stdout",
          "text": [
            "+-------------+--------+---------+----------------+--------------------+\n",
            "|SquareFootage|Bedrooms|Bathrooms|        features|          prediction|\n",
            "+-------------+--------+---------+----------------+--------------------+\n",
            "|         1600|       3|        2|[1600.0,3.0,2.0]|1.2157012553426452E8|\n",
            "+-------------+--------+---------+----------------+--------------------+\n",
            "\n"
          ]
        }
      ]
    }
  ]
}